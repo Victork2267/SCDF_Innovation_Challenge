{
 "cells": [
  {
   "cell_type": "markdown",
   "metadata": {},
   "source": [
    "## Importing Modules"
   ]
  },
  {
   "cell_type": "code",
   "execution_count": 1,
   "metadata": {},
   "outputs": [
    {
     "name": "stderr",
     "output_type": "stream",
     "text": [
      "C:\\Users\\HO_YONG_KIAN\\Anaconda3\\envs\\tf_object_envir\\lib\\site-packages\\tensorflow\\python\\framework\\dtypes.py:523: FutureWarning: Passing (type, 1) or '1type' as a synonym of type is deprecated; in a future version of numpy, it will be understood as (type, (1,)) / '(1,)type'.\n",
      "  _np_qint8 = np.dtype([(\"qint8\", np.int8, 1)])\n",
      "C:\\Users\\HO_YONG_KIAN\\Anaconda3\\envs\\tf_object_envir\\lib\\site-packages\\tensorflow\\python\\framework\\dtypes.py:524: FutureWarning: Passing (type, 1) or '1type' as a synonym of type is deprecated; in a future version of numpy, it will be understood as (type, (1,)) / '(1,)type'.\n",
      "  _np_quint8 = np.dtype([(\"quint8\", np.uint8, 1)])\n",
      "C:\\Users\\HO_YONG_KIAN\\Anaconda3\\envs\\tf_object_envir\\lib\\site-packages\\tensorflow\\python\\framework\\dtypes.py:525: FutureWarning: Passing (type, 1) or '1type' as a synonym of type is deprecated; in a future version of numpy, it will be understood as (type, (1,)) / '(1,)type'.\n",
      "  _np_qint16 = np.dtype([(\"qint16\", np.int16, 1)])\n",
      "C:\\Users\\HO_YONG_KIAN\\Anaconda3\\envs\\tf_object_envir\\lib\\site-packages\\tensorflow\\python\\framework\\dtypes.py:526: FutureWarning: Passing (type, 1) or '1type' as a synonym of type is deprecated; in a future version of numpy, it will be understood as (type, (1,)) / '(1,)type'.\n",
      "  _np_quint16 = np.dtype([(\"quint16\", np.uint16, 1)])\n",
      "C:\\Users\\HO_YONG_KIAN\\Anaconda3\\envs\\tf_object_envir\\lib\\site-packages\\tensorflow\\python\\framework\\dtypes.py:527: FutureWarning: Passing (type, 1) or '1type' as a synonym of type is deprecated; in a future version of numpy, it will be understood as (type, (1,)) / '(1,)type'.\n",
      "  _np_qint32 = np.dtype([(\"qint32\", np.int32, 1)])\n",
      "C:\\Users\\HO_YONG_KIAN\\Anaconda3\\envs\\tf_object_envir\\lib\\site-packages\\tensorflow\\python\\framework\\dtypes.py:532: FutureWarning: Passing (type, 1) or '1type' as a synonym of type is deprecated; in a future version of numpy, it will be understood as (type, (1,)) / '(1,)type'.\n",
      "  np_resource = np.dtype([(\"resource\", np.ubyte, 1)])\n"
     ]
    }
   ],
   "source": [
    "import numpy as np\n",
    "import pandas as pd\n",
    "import matplotlib.pyplot as plt\n",
    "\n",
    "from tensorflow.python.keras.applications import ResNet50\n",
    "from tensorflow.python.keras.applications import VGG16\n",
    "from tensorflow.python.keras.models import Sequential\n",
    "from tensorflow.python.keras.layers import Dense, Flatten, GlobalAveragePooling2D\n",
    "from tensorflow.python.keras.applications.resnet50 import preprocess_input\n",
    "from tensorflow.python.keras.preprocessing.image import ImageDataGenerator\n",
    "from sklearn.utils import class_weight\n",
    "from tensorflow.python.keras import optimizers\n",
    "\n",
    "import os\n",
    "import cv2\n",
    "import math\n",
    "from IPython.display import clear_output\n",
    "%matplotlib inline"
   ]
  },
  {
   "cell_type": "code",
   "execution_count": 2,
   "metadata": {},
   "outputs": [
    {
     "name": "stdout",
     "output_type": "stream",
     "text": [
      "['test', 'train']\n",
      "['test_videos', 'train_videos']\n"
     ]
    }
   ],
   "source": [
    "print(os.listdir(\"data/img_data\"))\n",
    "print(os.listdir(\"data/video_data\"))"
   ]
  },
  {
   "cell_type": "markdown",
   "metadata": {},
   "source": [
    "## Data Preparation"
   ]
  },
  {
   "cell_type": "markdown",
   "metadata": {},
   "source": [
    "The footage used for training and testing is downloaded from Youtube and compiled from different github repositories that are working on similar projects. The training/test data is split between 75%/25% andit is categorised into 3 classes: default, fire and smoke while the videos are labeled in their file names"
   ]
  },
  {
   "cell_type": "code",
   "execution_count": 3,
   "metadata": {},
   "outputs": [],
   "source": [
    "IMG_SIZE = 224\n",
    "NUM_EPOCHS = 20\n",
    "NUM_CLASSES = 3\n",
    "TRAIN_BATCH_SIZE = 77\n",
    "TEST_BATCH_SIZE = 1"
   ]
  },
  {
   "cell_type": "code",
   "execution_count": 4,
   "metadata": {},
   "outputs": [
    {
     "name": "stdout",
     "output_type": "stream",
     "text": [
      "['default', 'fire', 'smoke']\n",
      "['fire and smoke.mp4', 'fire1.mp4', 'fire2.mp4', 'fire3.mp4', 'fire4.mp4', 'newsmoke1.mp4', 'newsmoke2.mp4', 'nofire1.mp4', 'nofire2.mp4', 'smoke1.mp4', 'smoke2.mp4', 'smoke5.mp4']\n"
     ]
    }
   ],
   "source": [
    "print(os.listdir(\"data/img_data/train\"))\n",
    "print(os.listdir(\"data/video_data/train_videos\"))"
   ]
  },
  {
   "cell_type": "markdown",
   "metadata": {},
   "source": [
    "## VGG16 & Resnet50 model"
   ]
  },
  {
   "cell_type": "code",
   "execution_count": 5,
   "metadata": {},
   "outputs": [],
   "source": [
    "def create_model(model_size=\"VGG\"):\n",
    "    model = Sequential()\n",
    "    if model_size == \"VGG\":\n",
    "        vgg = VGG16(include_top=False, weights=\"imagenet\") #don't use this, lacking GPU memory\n",
    "        vgg.summary()\n",
    "        model.add(vgg)\n",
    "        model.add(GlobalAveragePooling2D())\n",
    "        model.layers[0].trainable = False\n",
    "        model.layers[1].trainable = False\n",
    "    elif model_size == \"RES\":\n",
    "        resnet = ResNet50(include_top=False, pooling=\"avg\", weights=\"imagenet\")\n",
    "        resnet.summary()\n",
    "        model.add(resnet)\n",
    "        model.layers[0].trainable = False\n",
    "    \n",
    "    model.add(Dense(NUM_CLASSES, activation=\"softmax\")) #final layer should have three nodes with softmax activation function for multiclass prediction\n",
    "    model.compile(optimizer=optimizers.adam(), loss=\"categorical_crossentropy\",metrics=[\"accuracy\", \"mse\"])\n",
    "    return model"
   ]
  },
  {
   "cell_type": "markdown",
   "metadata": {},
   "source": [
    "## Training Data Generator"
   ]
  },
  {
   "cell_type": "markdown",
   "metadata": {},
   "source": [
    "Functions to pre-process training data"
   ]
  },
  {
   "cell_type": "code",
   "execution_count": 6,
   "metadata": {},
   "outputs": [],
   "source": [
    "def train_model( model ):\n",
    "    data_generator_with_aug = ImageDataGenerator(preprocessing_function=preprocess_input,\n",
    "                                width_shift_range=0.1,\n",
    "                                height_shift_range=0.1,\n",
    "                                zoom_range=[0.9, 1.25],\n",
    "                                horizontal_flip=True,\n",
    "                                vertical_flip=False,\n",
    "                                data_format='channels_last',\n",
    "                                brightness_range=[0.5, 1.5]\n",
    "                               )\n",
    "                                       \n",
    "    train_generator = data_generator_with_aug.flow_from_directory(\n",
    "            'data/img_data/train',\n",
    "            target_size=(IMG_SIZE, IMG_SIZE),\n",
    "            batch_size=TRAIN_BATCH_SIZE,\n",
    "            class_mode='categorical')\n",
    "    \n",
    "   \n",
    "    validation_generator = data_generator_with_aug.flow_from_directory(\n",
    "            'data/img_data/test',\n",
    "            target_size=(IMG_SIZE, IMG_SIZE),\n",
    "            batch_size=TEST_BATCH_SIZE,\n",
    "            shuffle = False,\n",
    "            class_mode='categorical')\n",
    "       \n",
    "    history = model.fit_generator(\n",
    "            train_generator,\n",
    "            steps_per_epoch=train_generator.n/TRAIN_BATCH_SIZE,\n",
    "            epochs=NUM_EPOCHS,\n",
    "            validation_data=validation_generator,\n",
    "            validation_steps=1)\n",
    "\n",
    "    return model, train_generator, validation_generator, history\n",
    "\n",
    "def get_label_dict(train_generator):\n",
    "    labs = (train_generator.class_indices)\n",
    "    labs_dict = dict((v,k) for k,v in labs.items())\n",
    "    return labs_dict\n",
    "\n",
    "def get_labels(generator):\n",
    "    generator.reset()\n",
    "    labs = []\n",
    "    for i in range(len(generator)):\n",
    "        labs.extend(np.array(generator[i][1]))\n",
    "    return np.argmax(labels, axis=1)\n",
    "\n",
    "def get_pred_labels(test_generator):\n",
    "    test_generator.reset()\n",
    "    pred_vec=model.predict_generator(test_generator,\n",
    "                                     steps=test_generator.n,\n",
    "                                     verbose=1)\n",
    "    return np.argmax(pred_vec, axis=1), np.max(pred_vec, axis=1)\n",
    "\n",
    "def plot_history(history, NUM_EPOCHS):\n",
    "    plt.style.use(\"ggplot\")\n",
    "    fig = plt.figure()\n",
    "    fig.set_size_inches(15, 5)\n",
    "    \n",
    "    fig.add_subplot(1, 3, 1)\n",
    "    plt.plot(np.arange(0, NUM_EPOCHS), history.history[\"loss\"], label=\"train_loss\")\n",
    "    plt.plot(np.arange(0, NUM_EPOCHS), history.history[\"val_loss\"], label=\"val_loss\")\n",
    "    plt.title(\"Training Loss and Validation Loss on Dataset\")\n",
    "    plt.xlabel(\"Epoch #\")\n",
    "    plt.ylabel(\"Loss\")\n",
    "    plt.legend(loc=\"lower left\")\n",
    "\n",
    "    \n",
    "    fig.add_subplot(1, 3, 2)\n",
    "    plt.plot(np.arange(0, NUM_EPOCHS), history.history[\"loss\"], label=\"train_loss\")\n",
    "    plt.plot(np.arange(0, NUM_EPOCHS), history.history[\"acc\"], label=\"train_acc\")\n",
    "    plt.title(\"Training Loss and Accuracy on Dataset\")\n",
    "    plt.xlabel(\"Epoch #\")\n",
    "    plt.ylabel(\"Loss/Accuracy\")\n",
    "    plt.legend(loc=\"lower left\")\n",
    "    \n",
    "    fig.add_subplot(1, 3, 3)\n",
    "    plt.plot(np.arange(0, NUM_EPOCHS), history.history[\"val_loss\"], label=\"val_loss\")\n",
    "    plt.plot(np.arange(0, NUM_EPOCHS), history.history[\"val_acc\"], label=\"val_acc\")\n",
    "    plt.title(\"Validation Loss and Accuracy on Dataset\")\n",
    "    plt.xlabel(\"Epoch #\")\n",
    "    plt.ylabel(\"Loss/Accuracy\")\n",
    "    plt.legend(loc=\"lower left\")\n",
    "\n",
    "\n",
    "    plt.show()"
   ]
  },
  {
   "cell_type": "markdown",
   "metadata": {},
   "source": [
    "## Training the VGGmodel"
   ]
  },
  {
   "cell_type": "code",
   "execution_count": 7,
   "metadata": {},
   "outputs": [],
   "source": [
    "def draw_prediction(frame, class_string):\n",
    "    x_start = frame.shape[1] -600\n",
    "    cv2.putText(frame, class_string, (x_start, 75), cv2.FONT_HERSHEY_SIMPLEX, 2.5, (255, 0, 0), 2, cv2.LINE_AA)\n",
    "    return frame"
   ]
  },
  {
   "cell_type": "code",
   "execution_count": 8,
   "metadata": {},
   "outputs": [],
   "source": [
    "def prepare_image_for_prediction(img):\n",
    "    img = np.expand_dims(img, axis=0)\n",
    "    return preprocess_input(img)"
   ]
  },
  {
   "cell_type": "code",
   "execution_count": 22,
   "metadata": {},
   "outputs": [],
   "source": [
    "model = create_model(model_size=\"RES\")"
   ]
  },
  {
   "cell_type": "code",
   "execution_count": 23,
   "metadata": {},
   "outputs": [
    {
     "name": "stdout",
     "output_type": "stream",
     "text": [
      "Found 693 images belonging to 3 classes.\n",
      "Found 171 images belonging to 3 classes.\n",
      "Epoch 1/20\n",
      "9/9 [==============================] - 25s 3s/step - loss: 1.0950 - acc: 0.4661 - mean_squared_error: 0.2154 - val_loss: 2.6874 - val_acc: 0.0000e+00 - val_mean_squared_error: 0.4976\n",
      "Epoch 2/20\n",
      "9/9 [==============================] - 19s 2s/step - loss: 0.5958 - acc: 0.7893 - mean_squared_error: 0.1101 - val_loss: 1.6239 - val_acc: 0.0000e+00 - val_mean_squared_error: 0.3876\n",
      "Epoch 3/20\n",
      "9/9 [==============================] - 20s 2s/step - loss: 0.4193 - acc: 0.8571 - mean_squared_error: 0.0754 - val_loss: 1.2498 - val_acc: 0.0000e+00 - val_mean_squared_error: 0.2646\n",
      "Epoch 4/20\n",
      "9/9 [==============================] - 20s 2s/step - loss: 0.3305 - acc: 0.8947 - mean_squared_error: 0.0579 - val_loss: 1.0349 - val_acc: 0.0000e+00 - val_mean_squared_error: 0.2093\n",
      "Epoch 5/20\n",
      "9/9 [==============================] - 21s 2s/step - loss: 0.2789 - acc: 0.9062 - mean_squared_error: 0.0492 - val_loss: 2.1514 - val_acc: 0.0000e+00 - val_mean_squared_error: 0.4357\n",
      "Epoch 6/20\n",
      "9/9 [==============================] - 21s 2s/step - loss: 0.2617 - acc: 0.9062 - mean_squared_error: 0.0458 - val_loss: 1.6700 - val_acc: 0.0000e+00 - val_mean_squared_error: 0.3898\n",
      "Epoch 7/20\n",
      "9/9 [==============================] - 20s 2s/step - loss: 0.2034 - acc: 0.9365 - mean_squared_error: 0.0344 - val_loss: 1.3620 - val_acc: 0.0000e+00 - val_mean_squared_error: 0.2782\n",
      "Epoch 8/20\n",
      "9/9 [==============================] - 20s 2s/step - loss: 0.1922 - acc: 0.9394 - mean_squared_error: 0.0323 - val_loss: 0.5067 - val_acc: 1.0000 - val_mean_squared_error: 0.0800\n",
      "Epoch 9/20\n",
      "9/9 [==============================] - 21s 2s/step - loss: 0.1773 - acc: 0.9466 - mean_squared_error: 0.0295 - val_loss: 0.4427 - val_acc: 1.0000 - val_mean_squared_error: 0.0728\n",
      "Epoch 10/20\n",
      "9/9 [==============================] - 20s 2s/step - loss: 0.1870 - acc: 0.9365 - mean_squared_error: 0.0323 - val_loss: 1.5413 - val_acc: 0.0000e+00 - val_mean_squared_error: 0.3204\n",
      "Epoch 11/20\n",
      "9/9 [==============================] - 21s 2s/step - loss: 0.1701 - acc: 0.9408 - mean_squared_error: 0.0288 - val_loss: 1.5576 - val_acc: 0.0000e+00 - val_mean_squared_error: 0.3766\n",
      "Epoch 12/20\n",
      "9/9 [==============================] - 20s 2s/step - loss: 0.1606 - acc: 0.9466 - mean_squared_error: 0.0273 - val_loss: 0.6223 - val_acc: 1.0000 - val_mean_squared_error: 0.1204\n",
      "Epoch 13/20\n",
      "9/9 [==============================] - 20s 2s/step - loss: 0.1382 - acc: 0.9567 - mean_squared_error: 0.0218 - val_loss: 1.9784 - val_acc: 0.0000e+00 - val_mean_squared_error: 0.4137\n",
      "Epoch 14/20\n",
      "9/9 [==============================] - 20s 2s/step - loss: 0.1357 - acc: 0.9553 - mean_squared_error: 0.0224 - val_loss: 0.6051 - val_acc: 1.0000 - val_mean_squared_error: 0.1107\n",
      "Epoch 15/20\n",
      "9/9 [==============================] - 21s 2s/step - loss: 0.1340 - acc: 0.9553 - mean_squared_error: 0.0221 - val_loss: 0.3270 - val_acc: 1.0000 - val_mean_squared_error: 0.0389\n",
      "Epoch 16/20\n",
      "9/9 [==============================] - 21s 2s/step - loss: 0.1269 - acc: 0.9524 - mean_squared_error: 0.0216 - val_loss: 0.8680 - val_acc: 1.0000 - val_mean_squared_error: 0.1788\n",
      "Epoch 17/20\n",
      "9/9 [==============================] - 26s 3s/step - loss: 0.1210 - acc: 0.9654 - mean_squared_error: 0.0195 - val_loss: 0.4127 - val_acc: 1.0000 - val_mean_squared_error: 0.0681\n",
      "Epoch 18/20\n",
      "9/9 [==============================] - 26s 3s/step - loss: 0.1163 - acc: 0.9726 - mean_squared_error: 0.0185 - val_loss: 0.2774 - val_acc: 1.0000 - val_mean_squared_error: 0.0328\n",
      "Epoch 19/20\n",
      "9/9 [==============================] - 25s 3s/step - loss: 0.1148 - acc: 0.9639 - mean_squared_error: 0.0188 - val_loss: 0.0785 - val_acc: 1.0000 - val_mean_squared_error: 0.0030\n",
      "Epoch 20/20\n",
      "9/9 [==============================] - 23s 3s/step - loss: 0.1138 - acc: 0.9668 - mean_squared_error: 0.0186 - val_loss: 0.4134 - val_acc: 1.0000 - val_mean_squared_error: 0.0573\n"
     ]
    }
   ],
   "source": [
    "trained_model, train_generator, test_generator, history = train_model(model)\n",
    "label_dict = get_label_dict(train_generator)"
   ]
  },
  {
   "cell_type": "code",
   "execution_count": 24,
   "metadata": {},
   "outputs": [
    {
     "data": {
      "image/png": "[encoded data removed]",
      "text/plain": [
       "<Figure size 1080x360 with 3 Axes>"
      ]
     },
     "metadata": {},
     "output_type": "display_data"
    }
   ],
   "source": [
    "plot_history(history=history, NUM_EPOCHS=NUM_EPOCHS)"
   ]
  },
  {
   "cell_type": "code",
   "execution_count": 25,
   "metadata": {},
   "outputs": [],
   "source": [
    "trained_model.save(\"trained_resnet.h5\")"
   ]
  },
  {
   "cell_type": "code",
   "execution_count": 9,
   "metadata": {},
   "outputs": [
    {
     "name": "stdout",
     "output_type": "stream",
     "text": [
      "WARNING:tensorflow:Error in loading the saved optimizer state. As a result, your model is starting with a freshly initialized optimizer.\n",
      "_________________________________________________________________\n",
      "Layer (type)                 Output Shape              Param #   \n",
      "=================================================================\n",
      "resnet50 (Model)             (None, 2048)              23587712  \n",
      "_________________________________________________________________\n",
      "dense_2 (Dense)              (None, 3)                 6147      \n",
      "=================================================================\n",
      "Total params: 23,593,859\n",
      "Trainable params: 23,540,739\n",
      "Non-trainable params: 53,120\n",
      "_________________________________________________________________\n"
     ]
    }
   ],
   "source": [
    "from tensorflow.keras.models import load_model\n",
    "resnet_model = load_model('trained_resnet.h5')\n",
    "resnet_model.summary()"
   ]
  },
  {
   "cell_type": "markdown",
   "metadata": {},
   "source": [
    "## Prediction Function"
   ]
  },
  {
   "cell_type": "code",
   "execution_count": 10,
   "metadata": {},
   "outputs": [],
   "source": [
    "def get_display_string(pred_class, label_dict):\n",
    "    txt = \"\"\n",
    "    for c, confidence in pred_class:\n",
    "        txt += label_dict[c]\n",
    "        if c :\n",
    "            txt += '['+ str(confidence) +']'\n",
    "    return txt"
   ]
  },
  {
   "cell_type": "code",
   "execution_count": 11,
   "metadata": {},
   "outputs": [],
   "source": [
    "def predict(model, video_path, filename, label_dict):\n",
    "    vs = cv2.VideoCapture(video_path)\n",
    "    fps = math.floor(vs.get(cv2.CAP_PROP_FPS))\n",
    "    ret_val = True\n",
    "    writer = 0\n",
    "    \n",
    "    while True:\n",
    "        ret_val, frame = vs.read()\n",
    "        if not ret_val:\n",
    "            break\n",
    "        resized_frame = cv2.resize(frame, (IMG_SIZE, IMG_SIZE))\n",
    "        frame_for_pred = prepare_image_for_prediction( resized_frame )\n",
    "        pred_vec = model.predict(frame_for_pred)\n",
    "        pred_class =[]\n",
    "        confidence = np.round(pred_vec.max(),2) \n",
    "        \n",
    "        if confidence > 0.4:\n",
    "            pc = pred_vec.argmax()\n",
    "            pred_class.append( (pc, confidence) )\n",
    "            if pc == \"smoke\":\n",
    "                return \"smoke\"\n",
    "            if pc == \"default\":\n",
    "                return \"default\"\n",
    "            if pc == \"fire\":\n",
    "                return \"fire\"\n",
    "        else:\n",
    "            pred_class.append( (0, 0) )\n",
    "            \n",
    "        if pred_class:\n",
    "            txt = get_display_string(pred_class, label_dict)       \n",
    "            frame = draw_prediction( frame, txt )\n",
    "        if not writer:\n",
    "            fourcc = cv2.VideoWriter_fourcc(*\"XVID\")\n",
    "            writer = cv2.VideoWriter(filename, fourcc, fps,(frame.shape[1], frame.shape[0]), True)\n",
    "            \n",
    "        # write the out\n",
    "        writer.write(frame)\n",
    "        \n",
    "        cv2.imshow(\"Output\", frame)\n",
    "        key = cv2.waitKey(1) & 0xFF\n",
    "        \n",
    "        if key == ord(\"q\"):\n",
    "            break\n",
    "        \n",
    "    vs.release()\n",
    "    writer.release()"
   ]
  },
  {
   "cell_type": "code",
   "execution_count": 12,
   "metadata": {},
   "outputs": [
    {
     "ename": "NameError",
     "evalue": "name 'trained_model' is not defined",
     "output_type": "error",
     "traceback": [
      "\u001b[1;31m---------------------------------------------------------------------------\u001b[0m",
      "\u001b[1;31mNameError\u001b[0m                                 Traceback (most recent call last)",
      "\u001b[1;32m<ipython-input-12-2031e9f5c039>\u001b[0m in \u001b[0;36m<module>\u001b[1;34m\u001b[0m\n\u001b[0;32m      1\u001b[0m \u001b[0mvideo_path\u001b[0m \u001b[1;33m=\u001b[0m \u001b[1;34m'data/video_data/test_videos/test4.avi'\u001b[0m\u001b[1;33m\u001b[0m\u001b[1;33m\u001b[0m\u001b[0m\n\u001b[1;32m----> 2\u001b[1;33m \u001b[0mpredict\u001b[0m \u001b[1;33m(\u001b[0m\u001b[0mmodel\u001b[0m\u001b[1;33m=\u001b[0m\u001b[0mtrained_model\u001b[0m\u001b[1;33m,\u001b[0m \u001b[0mvideo_path\u001b[0m\u001b[1;33m=\u001b[0m\u001b[0mvideo_path\u001b[0m\u001b[1;33m,\u001b[0m \u001b[0mfilename\u001b[0m\u001b[1;33m=\u001b[0m\u001b[1;34m'test1_9.avi'\u001b[0m\u001b[1;33m,\u001b[0m \u001b[0mlabel_dict\u001b[0m\u001b[1;33m=\u001b[0m\u001b[0mlabel_dict\u001b[0m\u001b[1;33m)\u001b[0m\u001b[1;33m\u001b[0m\u001b[1;33m\u001b[0m\u001b[0m\n\u001b[0m\u001b[0;32m      3\u001b[0m \u001b[1;33m\u001b[0m\u001b[0m\n\u001b[0;32m      4\u001b[0m \u001b[1;31m#video_path = 'data/video_data/test_videos/test2.mp4'\u001b[0m\u001b[1;33m\u001b[0m\u001b[1;33m\u001b[0m\u001b[1;33m\u001b[0m\u001b[0m\n\u001b[0;32m      5\u001b[0m \u001b[1;31m#predict (model=trained_model, video_path=video_path, filename='test2_9.avi',  label_dict=label_dict)\u001b[0m\u001b[1;33m\u001b[0m\u001b[1;33m\u001b[0m\u001b[1;33m\u001b[0m\u001b[0m\n",
      "\u001b[1;31mNameError\u001b[0m: name 'trained_model' is not defined"
     ]
    }
   ],
   "source": [
    "video_path = 'data/video_data/test_videos/test4.avi'\n",
    "predict (model=trained_model, video_path=video_path, filename='test1_9.avi', label_dict=label_dict) \n",
    "\n",
    "#video_path = 'data/video_data/test_videos/test2.mp4'\n",
    "#predict (model=trained_model, video_path=video_path, filename='test2_9.avi',  label_dict=label_dict) \n",
    "\n",
    "#video_path = 'data/video_data/test_videos/test3.mp4'\n",
    "#predict (model=trained_model, video_path=video_path, filename='test3_9.avi',  label_dict=label_dict)"
   ]
  },
  {
   "cell_type": "code",
   "execution_count": 14,
   "metadata": {},
   "outputs": [],
   "source": [
    "label_dict = {0: 'default', 1: 'fire', 2: 'smoke'}\n",
    "video_path = 'data/video_data/test_videos/test4.avi'\n",
    "predict (model=resnet_model, video_path=video_path, filename='test1_9.avi', label_dict=label_dict) "
   ]
  },
  {
   "cell_type": "code",
   "execution_count": null,
   "metadata": {},
   "outputs": [],
   "source": []
  }
 ],
 "metadata": {
  "kernelspec": {
   "display_name": "Python 3",
   "language": "python",
   "name": "python3"
  },
  "language_info": {
   "codemirror_mode": {
    "name": "ipython",
    "version": 3
   },
   "file_extension": ".py",
   "mimetype": "text/x-python",
   "name": "python",
   "nbconvert_exporter": "python",
   "pygments_lexer": "ipython3",
   "version": "3.6.9"
  }
 },
 "nbformat": 4,
 "nbformat_minor": 2
}
